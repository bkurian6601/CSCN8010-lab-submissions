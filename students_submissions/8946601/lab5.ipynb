{
 "cells": [
  {
   "cell_type": "markdown",
   "metadata": {},
   "source": [
    "<font color=\"navyblue\">\n",
    "<center>\n",
    "<h1>Cross-Validation for Model Selection</h1>\n",
    "\n",
    "<h2>Practical Lab 5 </h2><center></font>\n",
    "Submitted by Beena Kurian(student ID: 8946601)"
   ]
  },
  {
   "cell_type": "markdown",
   "metadata": {},
   "source": [
    "\n",
    "<font color=\"navyblue\">\n",
    "<h3>OBJECTIVES</h3>\n",
    "</font>\n",
    "\n",
    "*  Perform cross-validation on nine polynomial models, ranging from degree 0 to 8.\n",
    "* Construct a table summarizing the cross-validation results.\n",
    "* Compute the R-Squared, Mean Absolute Error (MAE) and MAPE metrics for each model and Calculate the mean value and standard deviation of these metrics from the cross-validation. \n",
    "* Identification of the Best Model\n",
    "* Additional analysis and interpretation of the models' performances. "
   ]
  },
  {
   "cell_type": "code",
   "execution_count": 1,
   "metadata": {},
   "outputs": [],
   "source": [
    "# Import necessary libraries\n",
    "import numpy as np\n",
    "from sklearn import datasets\n",
    "from sklearn.preprocessing import PolynomialFeatures\n",
    "from sklearn.linear_model import LinearRegression\n",
    "from sklearn.model_selection import cross_validate\n",
    "from sklearn.metrics import make_scorer, r2_score, mean_absolute_error, mean_absolute_percentage_error\n",
    "import pandas as pd\n",
    "from sklearn.model_selection import train_test_split "
   ]
  },
  {
   "cell_type": "markdown",
   "metadata": {},
   "source": [
    "\n",
    "<font color=\"navyblue\">\n",
    "<h4>1. GET THE DATA</h4>\n",
    "</font>\n",
    "\n",
    "From sklearn import datasets and then load diabetes dataset"
   ]
  },
  {
   "cell_type": "code",
   "execution_count": 2,
   "metadata": {},
   "outputs": [],
   "source": [
    "\n",
    "# to load the diabetes dataset from scikit-learn while simultaneously splitting it into two parts:\n",
    "from sklearn import datasets\n",
    "diabetes_X, diabetes_y = datasets.load_diabetes(return_X_y=True, as_frame=True, scaled=True)\n",
    "\n",
    "# independent variables X\n",
    "X = diabetes_X\n",
    "\n",
    "# dependent variable y\n",
    "y = diabetes_y"
   ]
  },
  {
   "cell_type": "code",
   "execution_count": 3,
   "metadata": {},
   "outputs": [
    {
     "data": {
      "text/html": [
       "<div>\n",
       "<style scoped>\n",
       "    .dataframe tbody tr th:only-of-type {\n",
       "        vertical-align: middle;\n",
       "    }\n",
       "\n",
       "    .dataframe tbody tr th {\n",
       "        vertical-align: top;\n",
       "    }\n",
       "\n",
       "    .dataframe thead th {\n",
       "        text-align: right;\n",
       "    }\n",
       "</style>\n",
       "<table border=\"1\" class=\"dataframe\">\n",
       "  <thead>\n",
       "    <tr style=\"text-align: right;\">\n",
       "      <th></th>\n",
       "      <th>age</th>\n",
       "      <th>sex</th>\n",
       "      <th>bmi</th>\n",
       "      <th>bp</th>\n",
       "      <th>s1</th>\n",
       "      <th>s2</th>\n",
       "      <th>s3</th>\n",
       "      <th>s4</th>\n",
       "      <th>s5</th>\n",
       "      <th>s6</th>\n",
       "    </tr>\n",
       "  </thead>\n",
       "  <tbody>\n",
       "    <tr>\n",
       "      <th>0</th>\n",
       "      <td>0.038076</td>\n",
       "      <td>0.050680</td>\n",
       "      <td>0.061696</td>\n",
       "      <td>0.021872</td>\n",
       "      <td>-0.044223</td>\n",
       "      <td>-0.034821</td>\n",
       "      <td>-0.043401</td>\n",
       "      <td>-0.002592</td>\n",
       "      <td>0.019907</td>\n",
       "      <td>-0.017646</td>\n",
       "    </tr>\n",
       "    <tr>\n",
       "      <th>1</th>\n",
       "      <td>-0.001882</td>\n",
       "      <td>-0.044642</td>\n",
       "      <td>-0.051474</td>\n",
       "      <td>-0.026328</td>\n",
       "      <td>-0.008449</td>\n",
       "      <td>-0.019163</td>\n",
       "      <td>0.074412</td>\n",
       "      <td>-0.039493</td>\n",
       "      <td>-0.068332</td>\n",
       "      <td>-0.092204</td>\n",
       "    </tr>\n",
       "    <tr>\n",
       "      <th>2</th>\n",
       "      <td>0.085299</td>\n",
       "      <td>0.050680</td>\n",
       "      <td>0.044451</td>\n",
       "      <td>-0.005670</td>\n",
       "      <td>-0.045599</td>\n",
       "      <td>-0.034194</td>\n",
       "      <td>-0.032356</td>\n",
       "      <td>-0.002592</td>\n",
       "      <td>0.002861</td>\n",
       "      <td>-0.025930</td>\n",
       "    </tr>\n",
       "    <tr>\n",
       "      <th>3</th>\n",
       "      <td>-0.089063</td>\n",
       "      <td>-0.044642</td>\n",
       "      <td>-0.011595</td>\n",
       "      <td>-0.036656</td>\n",
       "      <td>0.012191</td>\n",
       "      <td>0.024991</td>\n",
       "      <td>-0.036038</td>\n",
       "      <td>0.034309</td>\n",
       "      <td>0.022688</td>\n",
       "      <td>-0.009362</td>\n",
       "    </tr>\n",
       "    <tr>\n",
       "      <th>4</th>\n",
       "      <td>0.005383</td>\n",
       "      <td>-0.044642</td>\n",
       "      <td>-0.036385</td>\n",
       "      <td>0.021872</td>\n",
       "      <td>0.003935</td>\n",
       "      <td>0.015596</td>\n",
       "      <td>0.008142</td>\n",
       "      <td>-0.002592</td>\n",
       "      <td>-0.031988</td>\n",
       "      <td>-0.046641</td>\n",
       "    </tr>\n",
       "  </tbody>\n",
       "</table>\n",
       "</div>"
      ],
      "text/plain": [
       "        age       sex       bmi        bp        s1        s2        s3   \n",
       "0  0.038076  0.050680  0.061696  0.021872 -0.044223 -0.034821 -0.043401  \\\n",
       "1 -0.001882 -0.044642 -0.051474 -0.026328 -0.008449 -0.019163  0.074412   \n",
       "2  0.085299  0.050680  0.044451 -0.005670 -0.045599 -0.034194 -0.032356   \n",
       "3 -0.089063 -0.044642 -0.011595 -0.036656  0.012191  0.024991 -0.036038   \n",
       "4  0.005383 -0.044642 -0.036385  0.021872  0.003935  0.015596  0.008142   \n",
       "\n",
       "         s4        s5        s6  \n",
       "0 -0.002592  0.019907 -0.017646  \n",
       "1 -0.039493 -0.068332 -0.092204  \n",
       "2 -0.002592  0.002861 -0.025930  \n",
       "3  0.034309  0.022688 -0.009362  \n",
       "4 -0.002592 -0.031988 -0.046641  "
      ]
     },
     "execution_count": 3,
     "metadata": {},
     "output_type": "execute_result"
    }
   ],
   "source": [
    "#To display few rows of diabetes_X \n",
    "diabetes_X.head()"
   ]
  },
  {
   "cell_type": "code",
   "execution_count": 4,
   "metadata": {},
   "outputs": [
    {
     "name": "stdout",
     "output_type": "stream",
     "text": [
      "0    151.0\n",
      "1     75.0\n",
      "2    141.0\n",
      "3    206.0\n",
      "4    135.0\n",
      "Name: target, dtype: float64\n"
     ]
    }
   ],
   "source": [
    "#To display few rows of diabetes_y \n",
    "print(diabetes_y.head())"
   ]
  },
  {
   "cell_type": "code",
   "execution_count": 5,
   "metadata": {},
   "outputs": [],
   "source": [
    "# Train and Test data split \n",
    "X_train, X_test, y_train, y_test = train_test_split(X,y, test_size=0.2, random_state=1)"
   ]
  },
  {
   "cell_type": "markdown",
   "metadata": {},
   "source": [
    "<font color=\"navyblue\">\n",
    "<h4>2. RUN MULTIVARIATE POLYNOMIAL REGRESSION OF 0-8 DEGREE ON ALL VARIABLES</h4>\n",
    "</font>"
   ]
  },
  {
   "cell_type": "code",
   "execution_count": 6,
   "metadata": {},
   "outputs": [],
   "source": [
    "model = {}\n",
    "polynomial={}\n",
    "X_train_poly={}\n",
    "\n",
    "# Function to perform polynomial regression and cross-validation\n",
    "def perform_poly_regression(degree,bias):\n",
    "    polynomial[degree] = PolynomialFeatures(degree=degree,include_bias=bias)\n",
    "    X_train_poly[degree] = polynomial[degree].fit_transform(X_train)\n",
    "    \n",
    "    \n",
    "\n",
    "    model[degree] = LinearRegression()\n",
    "\n",
    "    # Define neeeded metrics for cross-validation\n",
    "    metrics_needed = {\n",
    "        'r2': make_scorer(r2_score),\n",
    "        'mae': make_scorer(mean_absolute_error),\n",
    "        'mape': make_scorer(mean_absolute_percentage_error)\n",
    "    }\n",
    "\n",
    "    # Perform cross-validation\n",
    "    cv_results = cross_validate(model[degree], X_train_poly[degree], y_train, cv=10, scoring=metrics_needed)\n",
    "    \n",
    "    # Calculate mean scores and standard deviation of r2, mae, and mape\n",
    "    mean_r2 = np.mean(cv_results['test_r2'])\n",
    "    std_r2 = np.std(cv_results['test_r2'])\n",
    "\n",
    "    mean_mae = np.mean(cv_results['test_mae'])\n",
    "    std_mae = np.std(cv_results['test_mae'])\n",
    "\n",
    "    mean_mape = np.mean(cv_results['test_mape'])\n",
    "    std_mape = np.std(cv_results['test_mape'])\n",
    "\n",
    "    return degree, mean_r2, std_r2, mean_mae, std_mae, mean_mape, std_mape\n",
    "\n",
    "# Create lists to store results\n",
    "metrics = []\n",
    "\n",
    "# Iterate through polynomial degrees and perform cross-validation\n",
    "degree, mean_r2, std_r2, mean_mae, std_mae, mean_mape, std_mape= perform_poly_regression(0,True)\n",
    "metrics.append([degree, mean_r2, std_r2, mean_mae, std_mae, mean_mape, std_mape])\n",
    "for degree in range(1,9):\n",
    "    degree, mean_r2, std_r2, mean_mae, std_mae, mean_mape, std_mape= perform_poly_regression(degree,False)\n",
    "    metrics.append([degree, mean_r2, std_r2, mean_mae, std_mae, mean_mape, std_mape])"
   ]
  },
  {
   "cell_type": "markdown",
   "metadata": {},
   "source": [
    "<font color=\"navyblue\">\n",
    "<H4>3. A TABLE SUMMARIZING THE CROSS VALIDATION RESULTS</H4>\n",
    "</font>"
   ]
  },
  {
   "cell_type": "markdown",
   "metadata": {},
   "source": [
    "Compare the 9 models using the metrics:\n",
    "* R-squared\n",
    "* MAPE \n",
    "* MAE. "
   ]
  },
  {
   "cell_type": "code",
   "execution_count": 7,
   "metadata": {},
   "outputs": [
    {
     "name": "stdout",
     "output_type": "stream",
     "text": [
      " polynomial_degree  mean_r_squared   std_dev_r_squared   mean_MAE   std_dev_MAE  mean_MAPE   std_dev_MAPE\n",
      "                 0       -0.027099            0.028614  66.967751      7.115587   0.639572       0.095221\n",
      "                 1        0.467490            0.104420  45.448591      3.519473   0.415324       0.053124\n",
      "                 2        0.389017            0.146398  47.528385      5.663113   0.420030       0.036204\n",
      "                 3     -141.508057          158.849276 348.690019    121.574460   2.579619       0.873699\n",
      "                 4      -28.578060           30.692642 246.103838     60.754057   2.047501       0.660156\n",
      "                 5      -24.551828           22.289902 237.152765     54.032541   1.957909       0.580293\n",
      "                 6      -24.546701           22.276316 237.142649     54.043169   1.957792       0.580303\n",
      "                 7      -24.544828           22.271299 237.139795     54.039036   1.957754       0.580251\n",
      "                 8      -24.544826           22.271277 237.139814     54.039030   1.957754       0.580251\n"
     ]
    }
   ],
   "source": [
    "# Create a DataFrame to display the results\n",
    "eval_metric_df = pd.DataFrame(metrics, columns=['polynomial_degree', 'mean_r_squared',' std_dev_r_squared', 'mean_MAE',' std_dev_MAE',  'mean_MAPE', ' std_dev_MAPE', ])\n",
    "\n",
    "# Display the results\n",
    "print(eval_metric_df.to_string(index=False))\n"
   ]
  },
  {
   "cell_type": "markdown",
   "metadata": {},
   "source": [
    "<font color=\"navyblue\">\n",
    "<H4>4. IDENTIFICATION OF THE BEST MODEL & REASONS FOR CHOOSING THE MODEL</H4>\n",
    "</font>"
   ]
  },
  {
   "cell_type": "markdown",
   "metadata": {},
   "source": [
    "* I choose second model(polynomial with degree 1) as the best model.\n",
    "* Reason: \n",
    "     * When I compared the R-squared, MAE, MAPE of all the 9 models, Model with degree 1 exhibited the highest r-squared value and lowest MAPE and MAE values. \n",
    "     * -----------BEST MODEL-------:\n",
    "     * Polynomial Degree\t: 1\n",
    "     * Mean R-Squared\t: 0.467490, this model perform 46.75 % better.\n",
    "     * Mean MAE\t: 45.448591, this model have mean absolute error 45.45, which is less compared to other models.\n",
    "     * Mean MAPE    : 0.415324, this model have mean absolute percentage error of 41.53%, which is less compared to other models."
   ]
  },
  {
   "cell_type": "markdown",
   "metadata": {},
   "source": [
    "<font color=\"navyblue\">\n",
    "<H4>4. ADDITIONAL ANALYSIS & INTERPRETATION OF THE MODELS' PERFORMANCES</H4>\n",
    "</font>"
   ]
  },
  {
   "cell_type": "code",
   "execution_count": 8,
   "metadata": {},
   "outputs": [
    {
     "data": {
      "image/png": "[encoded data removed]",
      "text/plain": [
       "<Figure size 1500x500 with 3 Axes>"
      ]
     },
     "metadata": {},
     "output_type": "display_data"
    }
   ],
   "source": [
    "import seaborn as sns\n",
    "import matplotlib.pyplot as plt\n",
    "# Create subplots for each metric\n",
    "fig, axes = plt.subplots(nrows=1, ncols=3, figsize=(15, 5))\n",
    "\n",
    "polydeg = eval_metric_df['polynomial_degree']\n",
    "r2 = eval_metric_df['mean_r_squared']\n",
    "mae = eval_metric_df['mean_MAE']\n",
    "mape = eval_metric_df['mean_MAPE']\n",
    "\n",
    "# Plot R2 scores\n",
    "sns.barplot(x=polydeg, y=r2, ax=axes[0])\n",
    "\n",
    "axes[0].set_xlabel('Model Degree')\n",
    "axes[0].set_ylabel('Mean R-squared (R2)')\n",
    "axes[0].set_title('Mean R-squared')\n",
    "\n",
    "# Plot MAE values\n",
    "sns.barplot(x=polydeg, y=mae, ax=axes[1])\n",
    "axes[1].set_xlabel('Model Degree')\n",
    "axes[1].set_ylabel('Mean MAE')\n",
    "axes[1].set_title('Mean Absolute Error(Mean)')\n",
    "\n",
    "\n",
    "# Plot MAPE values\n",
    "sns.barplot(x=polydeg, y=mape, ax=axes[2])\n",
    "axes[2].set_xlabel('Model Degree')\n",
    "axes[2].set_ylabel('Mean MAPE')\n",
    "axes[2].set_title('Mean Absolute Percentage Error(Mean)')\n",
    "\n",
    "# Show the plots\n",
    "plt.show()\n"
   ]
  },
  {
   "cell_type": "markdown",
   "metadata": {},
   "source": [
    "Polynomial Degree 1:\n",
    "* This model demonstrates a good fit with high R-squared and lower error metrics.\n",
    "\n",
    "Polynomial Degree 2:\n",
    "* While the R-squared is slightly lower than the degree 1 model, it still indicates a reasonably good fit, and the error metrics are acceptable.\n",
    "\n",
    "Polynomial Degree 3 to 8:\n",
    "* These models perform very poorly, with negative R-squared values and extremely high error metrics. \n",
    "\n",
    "Polynomial Degree 0:\n",
    "* Not a good fit, with R-squared negative and nearly zero and high error metrics than model with degree 1 and 2.\n"
   ]
  },
  {
   "cell_type": "markdown",
   "metadata": {},
   "source": [
    "### FINAL PERFORMANCE EVALUATION USING TEST DATA"
   ]
  },
  {
   "cell_type": "code",
   "execution_count": 9,
   "metadata": {},
   "outputs": [
    {
     "name": "stdout",
     "output_type": "stream",
     "text": [
      "R- Squared :  0.44\n",
      "Mean Absolute Error: 41.97\n",
      "Mean Absolute Percentage error: 0.32\n"
     ]
    }
   ],
   "source": [
    "\n",
    "# performance evaluation function\n",
    "def evaluate_performance(y1,y2):\n",
    "    print(\"R- Squared : \",round(r2_score(y1,y2),2))\n",
    "    print(\"Mean Absolute Error:\",round(mean_absolute_error(y1, y2),2))\n",
    "    print(\"Mean Absolute Percentage error:\", round(mean_absolute_percentage_error(y1, y2),2))\n",
    "\n",
    "X_test_poly = polynomial[1].transform(X_test)    \n",
    "model[1].fit(X_train_poly[1], y_train)\n",
    "y_test_pred =model[1].predict(X_test_poly)\n",
    "evaluate_performance(y_test,y_test_pred)"
   ]
  }
 ],
 "metadata": {
  "kernelspec": {
   "display_name": "Python 3",
   "language": "python",
   "name": "python3"
  },
  "language_info": {
   "codemirror_mode": {
    "name": "ipython",
    "version": 3
   },
   "file_extension": ".py",
   "mimetype": "text/x-python",
   "name": "python",
   "nbconvert_exporter": "python",
   "pygments_lexer": "ipython3",
   "version": "3.11.5"
  }
 },
 "nbformat": 4,
 "nbformat_minor": 2
}
